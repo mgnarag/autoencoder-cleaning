{
  "nbformat": 4,
  "nbformat_minor": 0,
  "metadata": {
    "colab": {
      "provenance": [],
      "include_colab_link": true
    },
    "kernelspec": {
      "name": "python3",
      "display_name": "Python 3"
    },
    "language_info": {
      "name": "python"
    }
  },
  "cells": [
    {
      "cell_type": "markdown",
      "metadata": {
        "id": "view-in-github",
        "colab_type": "text"
      },
      "source": [
        "<a href=\"https://colab.research.google.com/github/mgnarag/binarization-autoencoder/blob/main/Traditional_binarization.ipynb\" target=\"_parent\"><img src=\"https://colab.research.google.com/assets/colab-badge.svg\" alt=\"Open In Colab\"/></a>"
      ]
    },
    {
      "cell_type": "code",
      "execution_count": null,
      "metadata": {
        "id": "Ny-cLuc-2ZpT"
      },
      "outputs": [],
      "source": [
        "from google.colab import drive\n",
        "drive.mount(\"/content/drive\")\n",
        "\n",
        "!ls drive/My\\ Drive\n",
        "file_path = \"/content/drive/My Drive/Architectural_designs/one quadrant/\""
      ]
    },
    {
      "cell_type": "code",
      "source": [
        "import matplotlib.pyplot as plt\n",
        "import numpy as np\n",
        "import pandas as pd\n",
        "\n",
        "\n",
        "from PIL import Image, ImageOps\n",
        "Image.MAX_IMAGE_PIXELS = None\n",
        "import os\n",
        "import matplotlib.pyplot as plt\n",
        "\n",
        "import cv2"
      ],
      "metadata": {
        "id": "7t5VtlOB_YW4"
      },
      "execution_count": null,
      "outputs": []
    },
    {
      "cell_type": "code",
      "source": [
        "def metrics(gt,thresh1):\n",
        "  out_bin = np.where(thresh1 == 255, 1, thresh1)\n",
        "  gt_bin = np.where(gt == 255, 1, gt)\n",
        "  gt_bin = gt_bin^1\n",
        "  out_bin = out_bin^1\n",
        "\n",
        "  tp = np.sum(out_bin & gt_bin)\n",
        "  fp = np.sum(out_bin & ~gt_bin)\n",
        "  fn = np.sum(~out_bin & gt_bin)\n",
        "  precision = tp / (tp + fp)\n",
        "  recall = tp / (tp + fn)\n",
        "  f1_score = (2*precision*recall)/(precision + recall)\n",
        "\n",
        "  intersection = np.sum(np.logical_and(gt_bin, out_bin))\n",
        "  union = np.sum(np.logical_or(gt_bin, out_bin))\n",
        "  iou = intersection / union\n",
        "\n",
        "  psnr = cv2.PSNR(gt, thresh1)\n",
        "\n",
        "  return f1_score, iou, psnr\n",
        "\n",
        "\n",
        "def simple_thresh(gt,test):\n",
        "  F1 = []\n",
        "  IOU = []\n",
        "  PSNR = []\n",
        "  for i in range(0,255):\n",
        "    ret,thresh1 = cv2.threshold(test,i,255,cv2.THRESH_BINARY)\n",
        "    M = metrics(gt,thresh1)\n",
        "    F1.append(M[0])\n",
        "    IOU.append(M[1])\n",
        "    PSNR.append(M[2])\n",
        "  index = np.nanargmax(F1)\n",
        "\n",
        "  #saving:\n",
        "  ret,thresh1 = cv2.threshold(test,index,255,cv2.THRESH_BINARY)\n",
        "  final = Image.fromarray(thresh1)\n",
        "  final.save(file_path + \"/6 Traditional Thresh Results/\"+\"[1] SIMPLE_pix_\" + str(index)+\".png\")\n",
        "\n",
        "  return F1[index], IOU[index], PSNR[index], index\n",
        "\n",
        "def otsu_thresh(gt,test):\n",
        "  ret,thresh1 = cv2.threshold(test,0,255,cv2.THRESH_BINARY+cv2.THRESH_OTSU)\n",
        "  M = metrics(gt,thresh1)\n",
        "  final = Image.fromarray(thresh1)\n",
        "  final.save(file_path +  \"/6 Traditional Thresh Results/\"+\"[2] OTSU.png\")\n",
        "  return M[0], M[1], M[2]"
      ],
      "metadata": {
        "id": "ODN7x2jhCyMc"
      },
      "execution_count": null,
      "outputs": []
    },
    {
      "cell_type": "code",
      "source": [
        "def adaptive_thresh_gaussian(gt,test):\n",
        "  F1 = []\n",
        "  IOU = []\n",
        "  PSNR = []\n",
        "  kernel = [i for i in range(3, 128, 4)]\n",
        "  for k in kernel:\n",
        "    F1_per_kernel = []\n",
        "    IOU_per_kernel = []\n",
        "    PSNR_per_kernel = []\n",
        "    print(k)\n",
        "    for i in range(0,100):\n",
        "      #print(i)\n",
        "      thresh1 = cv2.adaptiveThreshold(test,255,cv2.ADAPTIVE_THRESH_GAUSSIAN_C,cv2.THRESH_BINARY,k,i)\n",
        "      M = metrics(gt,thresh1)\n",
        "      F1_per_kernel.append(M[0])\n",
        "      IOU_per_kernel.append(M[1])\n",
        "      PSNR_per_kernel.append(M[2])\n",
        "\n",
        "    F1.append(F1_per_kernel)\n",
        "    IOU.append(IOU_per_kernel)\n",
        "    PSNR.append(PSNR_per_kernel)\n",
        "\n",
        "  F1 = np.array(F1)\n",
        "  flat_index = np.nanargmax(F1)\n",
        "  index = np.unravel_index(flat_index, F1.shape)\n",
        "\n",
        "  #saving:\n",
        "  thresh1 = cv2.adaptiveThreshold(test,255,cv2.ADAPTIVE_THRESH_GAUSSIAN_C,cv2.THRESH_BINARY,kernel[index[0]], index[1])\n",
        "  final = Image.fromarray(thresh1)\n",
        "  final.save(file_path + \"/6 Traditional Thresh Results/\"+ \"[3] ADAPTIVE_GAUSSIAN_kernel_\"+str(kernel[index[0]])+ \"pix_\"+str(index[1])+\".png\")\n",
        "\n",
        "  return F1[index[0]][index[1]], IOU[index[0]][index[1]], PSNR[index[0]][index[1]], kernel[index[0]], index[1]\n",
        "\n",
        "def adaptive_thresh_mean(gt,test):\n",
        "  F1 = []\n",
        "  IOU = []\n",
        "  PSNR = []\n",
        "  kernel = [i for i in range(3, 128, 4)]\n",
        "  for k in kernel:\n",
        "    F1_per_kernel = []\n",
        "    IOU_per_kernel = []\n",
        "    PSNR_per_kernel = []\n",
        "    print(k)\n",
        "    for i in range(0,100):\n",
        "      thresh1 = cv2.adaptiveThreshold(test,255,cv2.ADAPTIVE_THRESH_MEAN_C,cv2.THRESH_BINARY,k,i)\n",
        "      #print(i)\n",
        "      M = metrics(gt,thresh1)\n",
        "      F1_per_kernel.append(M[0])\n",
        "      IOU_per_kernel.append(M[1])\n",
        "      PSNR_per_kernel.append(M[2])\n",
        "\n",
        "    F1.append(F1_per_kernel)\n",
        "    IOU.append(IOU_per_kernel)\n",
        "    PSNR.append(PSNR_per_kernel)\n",
        "\n",
        "  F1 = np.array(F1)\n",
        "  flat_index = np.nanargmax(F1)\n",
        "  index = np.unravel_index(flat_index, F1.shape)\n",
        "\n",
        "  #saving:\n",
        "  thresh1 = cv2.adaptiveThreshold(test,255,cv2.ADAPTIVE_THRESH_MEAN_C,cv2.THRESH_BINARY,kernel[index[0]], index[1])\n",
        "  final = Image.fromarray(thresh1)\n",
        "  final.save(file_path +  \"/6 Traditional Thresh Results/\"+\"[4] ADAPTIVE_MEAN_kernel_\"+str(kernel[index[0]])+ \"pix_\"+str(index[1])+\".png\")\n",
        "\n",
        "  return F1[index[0]][index[1]], IOU[index[0]][index[1]], PSNR[index[0]][index[1]], kernel[index[0]], index[1]"
      ],
      "metadata": {
        "id": "SXdhHw6Kwj0b"
      },
      "execution_count": null,
      "outputs": []
    },
    {
      "cell_type": "markdown",
      "source": [],
      "metadata": {
        "id": "pfqB2hvKF24B"
      }
    },
    {
      "cell_type": "code",
      "source": [
        "gt = cv2.imread(file_path+ '4 Testing/ground_truth.png', cv2.IMREAD_GRAYSCALE)\n",
        "test = cv2.imread(file_path+ '4 Testing/1.png', cv2.IMREAD_GRAYSCALE)\n",
        "#for simple thresh:\n",
        "simple = simple_thresh(gt,test)\n",
        "print('simple thresh = ', simple)\n",
        "otsu = otsu_thresh(gt,test)\n",
        "print('simple thresh = ', otsu)"
      ],
      "metadata": {
        "id": "jQAUy0W3xKrv"
      },
      "execution_count": null,
      "outputs": []
    },
    {
      "cell_type": "code",
      "source": [
        "#for adaptive thresh:\n",
        "gaussian = adaptive_thresh_gaussian(gt,test)\n",
        "print('adaptive thresh = ', gaussian)\n",
        "mean = adaptive_thresh_mean(gt,test)\n",
        "print('adaptive thresh = ', mean)"
      ],
      "metadata": {
        "id": "E9xqrMqb8J2f"
      },
      "execution_count": null,
      "outputs": []
    },
    {
      "cell_type": "code",
      "source": [
        "simple_ = np.array(simple)\n",
        "otsu_ = np.array(otsu)\n",
        "gaussian_ = np.array(gaussian)\n",
        "mean_ = np.array(mean)\n",
        "\n",
        "\n",
        "# Creating DataFrames from arrays\n",
        "df1 = pd.DataFrame({'Simple': simple_})\n",
        "df2 = pd.DataFrame({'Otsu': otsu_})\n",
        "df3 = pd.DataFrame({'Gaussian': gaussian_})\n",
        "df4 = pd.DataFrame({'Mean': mean_})\n",
        "\n",
        "# Concatenating DataFrames along columns (axis=1)\n",
        "metric = pd.concat([df1, df2, df3, df4], axis=1)\n",
        "metric = metric.T\n",
        "\n",
        "headers = ['F1 score','IOU', 'PSNR', 'pixel/kerner', 'c parameter' ]\n",
        "metric.columns = headers\n",
        "\n",
        "metric.to_csv(file_path + 'Metric_traditional.csv')\n",
        "\n",
        "\n",
        "print(metric)\n",
        "\n"
      ],
      "metadata": {
        "id": "8LAe5F2bA6Cp"
      },
      "execution_count": null,
      "outputs": []
    }
  ]
}