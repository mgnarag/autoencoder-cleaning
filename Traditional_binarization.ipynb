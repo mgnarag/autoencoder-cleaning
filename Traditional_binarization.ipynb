{
  "nbformat": 4,
  "nbformat_minor": 0,
  "metadata": {
    "colab": {
      "provenance": [],
      "authorship_tag": "ABX9TyOOsroT93tDmSg2pAUILx/m",
      "include_colab_link": true
    },
    "kernelspec": {
      "name": "python3",
      "display_name": "Python 3"
    },
    "language_info": {
      "name": "python"
    }
  },
  "cells": [
    {
      "cell_type": "markdown",
      "metadata": {
        "id": "view-in-github",
        "colab_type": "text"
      },
      "source": [
        "<a href=\"https://colab.research.google.com/github/mgnarag/binarization-autoencoder/blob/main/Traditional_binarization.ipynb\" target=\"_parent\"><img src=\"https://colab.research.google.com/assets/colab-badge.svg\" alt=\"Open In Colab\"/></a>"
      ]
    },
    {
      "cell_type": "code",
      "execution_count": null,
      "metadata": {
        "id": "Ny-cLuc-2ZpT"
      },
      "outputs": [],
      "source": [
        "from google.colab import drive\n",
        "drive.mount(\"/content/drive\")\n",
        "\n",
        "!ls drive/My\\ Drive\n",
        "file_path = \"/content/drive/My Drive/Architectural_designs/From Arki/6 Traditional Binarization/\""
      ]
    },
    {
      "cell_type": "code",
      "source": [
        "import matplotlib.pyplot as plt\n",
        "import numpy as np\n",
        "import pandas as pd\n",
        "\n",
        "\n",
        "from PIL import Image, ImageOps\n",
        "Image.MAX_IMAGE_PIXELS = None\n",
        "import os\n",
        "import matplotlib.pyplot as plt\n",
        "\n",
        "import cv2"
      ],
      "metadata": {
        "id": "7t5VtlOB_YW4"
      },
      "execution_count": 3,
      "outputs": []
    },
    {
      "cell_type": "code",
      "source": [
        "# F1 Score\n",
        "gt = cv2.imread(file_path+ 'ground_truth_100dpi.png', cv2.IMREAD_GRAYSCALE)\n",
        "test = cv2.imread(file_path+ 'nbs_100dpi.png', cv2.IMREAD_GRAYSCALE)\n",
        "\n",
        "ret,thresh1 = cv2.threshold(test,108,255,cv2.THRESH_BINARY)\n",
        "\n",
        "out_bin = np.where(thresh1 == 255, 1, thresh1)\n",
        "gt_bin = np.where(gt == 255, 1, gt)\n",
        "\n",
        "gt_bin = gt_bin^1\n",
        "out_bin = out_bin^1\n",
        "\n",
        "tp = np.sum(out_bin & gt_bin)\n",
        "print(tp)\n",
        "fp = np.sum(out_bin & ~gt_bin)\n",
        "fn = np.sum(~out_bin & gt_bin)\n",
        "precision = tp / (tp + fp)\n",
        "recall = tp / (tp + fn)\n",
        "f1_score = (2*precision*recall)/(precision + recall)\n",
        "\n",
        "\n",
        "\n",
        "# Intersection over Union (IoU)\n",
        "intersection = np.sum(np.logical_and(gt_bin, out_bin))\n",
        "union = np.sum(np.logical_or(gt_bin, out_bin))\n",
        "iou = intersection / union\n",
        "\n",
        "# Peak Signal-to-Noise Ratio (PSNR)\n",
        "psnr = cv2.PSNR(gt, thresh1)\n",
        "\n",
        "# Print the results\n",
        "print(\"F1 Score:\", f1_score)\n",
        "print(\"Intersection over Union (IoU):\", iou)\n",
        "print(\"PSNR:\", psnr)\n"
      ],
      "metadata": {
        "colab": {
          "base_uri": "https://localhost:8080/"
        },
        "id": "ODN7x2jhCyMc",
        "outputId": "c2c44db6-92b3-4d61-a563-b3f131f93b10"
      },
      "execution_count": 134,
      "outputs": [
        {
          "output_type": "stream",
          "name": "stdout",
          "text": [
            "314958\n",
            "F1 Score: 0.762211531015256\n",
            "Intersection over Union (IoU): 0.6157849665867668\n",
            "PSNR: 15.187172095488542\n"
          ]
        }
      ]
    },
    {
      "cell_type": "code",
      "source": [
        "P = []\n",
        "R = []\n",
        "F1 = []\n",
        "I_o_u = []\n",
        "img = Image.open(file_path+ 'nbs_100dpi.png').convert('L')\n",
        "gt = Image.open(file_path+ 'ground_truth_100dpi.png').convert('L')\n",
        "gt = np.asarray(gt) > 125\n",
        "gt = ~gt\n",
        "i = 107\n",
        "output = np.asarray(img) > i\n",
        "\n",
        "\n",
        "output = ~output\n",
        "\n",
        "tp = np.sum(output & gt)\n",
        "print(tp)\n",
        "fp = np.sum(output & ~gt)\n",
        "fn = np.sum(~output & gt)\n",
        "#I_1 = output & gt\n",
        "#O_1 = output | gt\n",
        "I = np.sum(output & gt)\n",
        "O = np.sum(output | gt)\n",
        "iou = I/O\n",
        "\n",
        "precision = tp / (tp + fp)\n",
        "recall = tp / (tp + fn)\n",
        "f1score = (2*precision*recall)/(precision + recall)\n",
        "\n",
        "P.append(precision)\n",
        "R.append(recall)\n",
        "F1.append(f1score)\n",
        "I_o_u.append(iou)\n",
        "\n",
        "print(F1)\n",
        "print(I_o_u)\n"
      ],
      "metadata": {
        "colab": {
          "base_uri": "https://localhost:8080/"
        },
        "id": "nfzLQgHHKZZr",
        "outputId": "2a9dc977-f547-4342-a5ba-998f7ae819d4"
      },
      "execution_count": 124,
      "outputs": [
        {
          "output_type": "stream",
          "name": "stdout",
          "text": [
            "309626\n",
            "[0.7611810590984351]\n",
            "[0.6144409275373823]\n"
          ]
        }
      ]
    },
    {
      "cell_type": "code",
      "source": [
        "i = 200\n",
        "output = np.asarray(img) > i-1\n",
        "\n",
        "ret,thresh1 = cv2.threshold(test,i,255,cv2.THRESH_BINARY)\n",
        "out_bin = np.where(thresh1 == 255, 1, thresh1)\n",
        "\n",
        "print(np.sum(output))\n",
        "print(np.sum(out_bin))"
      ],
      "metadata": {
        "colab": {
          "base_uri": "https://localhost:8080/"
        },
        "id": "uDdT_iRkRkcI",
        "outputId": "55b058a9-6f4a-411d-b751-f6375bf4569c"
      },
      "execution_count": 147,
      "outputs": [
        {
          "output_type": "stream",
          "name": "stdout",
          "text": [
            "26819\n",
            "26200\n"
          ]
        }
      ]
    },
    {
      "cell_type": "code",
      "source": [
        "img = Image.open(file_path+ 'nbs_100dpi.png').convert('L')\n",
        "print(np.max(img))\n",
        "print(np.max(test))"
      ],
      "metadata": {
        "colab": {
          "base_uri": "https://localhost:8080/"
        },
        "id": "cYcnFGBCTr5J",
        "outputId": "b982863b-f09f-4b39-a356-b1b4e23165ef"
      },
      "execution_count": 153,
      "outputs": [
        {
          "output_type": "stream",
          "name": "stdout",
          "text": [
            "242\n",
            "241\n"
          ]
        }
      ]
    },
    {
      "cell_type": "code",
      "source": [],
      "metadata": {
        "id": "4P2TSulIXmp4"
      },
      "execution_count": null,
      "outputs": []
    }
  ]
}