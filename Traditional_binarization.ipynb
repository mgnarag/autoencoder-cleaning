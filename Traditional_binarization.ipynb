{
  "nbformat": 4,
  "nbformat_minor": 0,
  "metadata": {
    "colab": {
      "provenance": [],
      "authorship_tag": "ABX9TyPKSqgS3YtwgtV/LEFfnXXp",
      "include_colab_link": true
    },
    "kernelspec": {
      "name": "python3",
      "display_name": "Python 3"
    },
    "language_info": {
      "name": "python"
    }
  },
  "cells": [
    {
      "cell_type": "markdown",
      "metadata": {
        "id": "view-in-github",
        "colab_type": "text"
      },
      "source": [
        "<a href=\"https://colab.research.google.com/github/mgnarag/binarization-autoencoder/blob/main/Traditional_binarization.ipynb\" target=\"_parent\"><img src=\"https://colab.research.google.com/assets/colab-badge.svg\" alt=\"Open In Colab\"/></a>"
      ]
    },
    {
      "cell_type": "code",
      "execution_count": 1,
      "metadata": {
        "colab": {
          "base_uri": "https://localhost:8080/"
        },
        "id": "Ny-cLuc-2ZpT",
        "outputId": "1fe286a5-9d03-4847-a4e0-769cc8a57ba3"
      },
      "outputs": [
        {
          "output_type": "stream",
          "name": "stdout",
          "text": [
            "Drive already mounted at /content/drive; to attempt to forcibly remount, call drive.mount(\"/content/drive\", force_remount=True).\n",
            "'107.1 syllabus 1SAY1920 FINAL.gdoc'\n",
            "'1C-01 Narag et al (1).pdf'\n",
            "'1C-01 Narag et al.pdf'\n",
            "'1FA971504AC646559D05A8ED6341AFB3[1025340].png'\n",
            "'1H-04 Narag et al.pdf'\n",
            " 20220802_182749.heic\n",
            " 20220802_182831.heic\n",
            " 20220802_183259.heic\n",
            " 20220803_125819.heic\n",
            " 20220803_125842.heic\n",
            " 20220803_144229.heic\n",
            " 20220803_144422.heic\n",
            " 20220803_160724.heic\n",
            " 20220803_160751.heic\n",
            " 20220803_165240.heic\n",
            " 20220803_165318.heic\n",
            " 20220803_174701.heic\n",
            " 20220803_174706.heic\n",
            " 20220804_175217.heic\n",
            " 20220804_175443.heic\n",
            " 20220804_175616.heic\n",
            " 20220804_181917.heic\n",
            " 20220804_182007.heic\n",
            " 20220804_182117.heic\n",
            " 2S22-23_LE3-Regular-Set-A-FINAL-KEY.pdf\n",
            "'A4_Physics 71 TWHFU-3_gradesheet (1).pdf'\n",
            "'A4_Physics 71 TWHFU-3_officialgrades (1).pdf'\n",
            "'A4_Physics 71 TWHFU-3_officialgrades.gdoc'\n",
            "'Abstract - NARAG, Mark Jeremy.pdf'\n",
            "'Annex 1 (copy of Journal).pdf'\n",
            "'Annex 2 (Proof of employments).pdf'\n",
            "'App Physics 181 THY-FX-2_studentcontactlist.xlsx'\n",
            " Architectural_designs\n",
            "'Binarizing architectural drawings'\n",
            " Classroom\n",
            "'Colab Notebooks'\n",
            "'Color Difference Specification 2016.pptx'\n",
            " CS_NIP_201819_S2_BS_AppliedPhysics_Narag_Mark_Jeremy.pdf\n",
            " D54dUVpU8AIZzoD.jpeg\n",
            " Data.tex\n",
            "'Dormitory Stay Request MNarag.docx.pdf'\n",
            " DrzPc0sUwAAyQHi.jpeg\n",
            " DvO96koV4AAD6PP.jpeg\n",
            "'DvO976tVAAEQ9ym (1).jpeg'\n",
            " DvO976tVAAEQ9ym.jpeg\n",
            "'Employment Survey.gdoc'\n",
            "'FBC-2_Banez (1).pdf'\n",
            " FBC-2_Banez.pdf\n",
            " FdUaD2nUcAAki1b.jpeg\n",
            "'Figure 1.png'\n",
            "'Figure 2.png'\n",
            "'fingerprint (1).pb'\n",
            "'fingerprint (2).pb'\n",
            "'fingerprint (3).pb'\n",
            "'fingerprint (4).pb'\n",
            " fingerprint.pb\n",
            "'Form5a and Grades.zip'\n",
            " Fringes.zip\n",
            " FSR_120201_NARAG_MARK_JEREMY_GACIAS_NIP.pdf\n",
            " FSR_120202_NARAG_MARK_JEREMY_GACIAS_NIP.pdf\n",
            " FSR_120212_NARAG_MARK_JEREMY_GACIAS_NIP.pdf\n",
            " FSR_120221_NARAG_MARK_JEREMY_GACIAS_NIP.pdf\n",
            "'Getting started.pdf'\n",
            " IMG_5634.JPG\n",
            " IMG_6572.jpeg\n",
            " IMG_6578.jpeg\n",
            "'IMG_6587 (1).jpeg'\n",
            " IMG_6587.jpeg\n",
            " IPA-Form4.1-2021Rev072021-1.pdf\n",
            " IPA-Form4.2-2021Rev072021.docx\n",
            " IPA-Form4.3-2021Rev072021.pdf\n",
            "'item sample.tex'\n",
            "'item template.tex'\n",
            "'Jas Jem utang.gsheet'\n",
            "'JFR Reduced Fees for 1st Sem AY 20-21.zip'\n",
            "'Lecture 22 - Torque.pptx'\n",
            "'Lecture 23 - Dynamics of Rotation.pptx'\n",
            "'Lecture 24 - Angular Momentum.pptx'\n",
            "'Lecture 25 - Equilibrium and Center of Gravity.pptx'\n",
            "'Lecture 26 - Density and Pressure in a Fluid.pptx'\n",
            "'Lecture 27 - Buoyancy.pptx'\n",
            "'LRM_20220804_195432 (1).dng'\n",
            " LRM_20220804_195432.dng\n",
            " LRM_20220804_195500.dng\n",
            " LRM_20220804_195546.dng\n",
            " LRM_20220805_113837.dng\n",
            " LRM_20220805_142837.dng\n",
            " LRM_20220805_143054.dng\n",
            " LRM_20220805_143817.dng\n",
            "'MALIPOL_CHAE ANN.pdf'\n",
            " Metric_100dpi.csv\n",
            " Metric_500.csv\n",
            "'NARAG_MARKJEREMY (1).BC.pdf'\n",
            " NARAG_MARKJEREMY.BC.pdf\n",
            " NARAG_MARKJEREMY.CC.png\n",
            " NARAG_MARKJEREMY.dcog.pdf\n",
            " NARAG_MARKJEREMY.DC.pdf\n",
            " NARAG_MARKJEREMY.FL.pdf\n",
            " NARAG_MARKJEREMY.Form1.1.pdf\n",
            " NARAG_MARKJEREMY.POS.pdf\n",
            " NARAG_MARKJEREMY.SD.pdf\n",
            " NARAG_MARKJEREMY.TCGTOR.pdf\n",
            "'[NARAG] Physics 242 Final Report.pdf'\n",
            "'[NARAG] Physics 242 PS 1.pdf'\n",
            "'[NARAG] Physics 242 PS 2.pdf'\n",
            "'Narag SPP Cert.pdf'\n",
            " NARAG_Travel-Report-Form-2019.pdf\n",
            "'NIP COVID-19 Case Report Form.gform'\n",
            "'NIP COVID-19 Case Report Form (Responses).gsheet'\n",
            "'NIP COVID19 Report.gsheet'\n",
            "'NIP Year End Party 2022'\n",
            " NRAG_MARKJEREMY.OTRTCG.pdf\n",
            "'Optics in Art and Art Analysis (1).pptx'\n",
            "'Optics in Art and Art Analysis.pptx'\n",
            "'OUR CErtificate.gdoc'\n",
            "'OUR CErtificate.pdf'\n",
            "'output v1_100dpi.png'\n",
            "'output v2_100dpi.png'\n",
            "'output v3_100dpi.png'\n",
            "'output v3_500.png'\n",
            "'output v4_100dpi.png'\n",
            "'output v5_100dpi.png'\n",
            "'output v6_100dpi.png'\n",
            "'OVCRD IPA Reference Slip (2021-0929-1691-5873).pdf'\n",
            "'PA-08 Narag et al.pdf'\n",
            " PA-08.pdf\n",
            "'Parallel Presentation.gslides'\n",
            "'PEER EVALUTION - Physics 72.1 HBC-1 .gform'\n",
            "'PEER EVALUTION - Physics 72.1 TDE-1 .gform'\n",
            "'PEER EVALUTION - Physics 72.1 WDE-1 .gform'\n",
            "'Physics 107.1 MBCD-2_studentcontactlist.xlsx'\n",
            " Physics305_plasma\n",
            "'Physics 71.1 WIJ FIJ and 72.1 TBC.gsheet'\n",
            " Physics_71_Syllabus.zip\n",
            "'Physics_71_Syllabus.zip (Unzipped Files)'\n",
            "'[Physics 71 V-2] Attendance.gsheet'\n",
            "'Physics 72.1 2nd Sem AY 2019-2020.gsheet'\n",
            "'Rene Jem utang.gsheet'\n",
            "'Research files'\n",
            "'Sablay picture.jpeg'\n",
            "'saved_model (1).pb'\n",
            "'saved_model (2).pb'\n",
            "'saved_model (3).pb'\n",
            "'saved_model (4).pb'\n",
            " saved_model.pb\n",
            "'Screenshot 2023-02-12 at 12.13.51 (1).png'\n",
            "'Screenshot 2023-02-12 at 12.13.51.png'\n",
            "'Screenshot 2023-06-29 at 19.20.04.png'\n",
            "'Screenshot 2023-06-29 at 19.26.09.png'\n",
            " Smokers.mp4\n",
            "'SORRY SIR HUHU.gdoc'\n",
            "'SORRY SIR HUHU.pdf'\n",
            "'SPP-2023-1H-04 (1).pptx'\n",
            " SPP-2023-1H-04.pptx\n",
            " SPP_2023-Contributed-26.pdf\n",
            "'SPP-2023-PB-05  .pdf'\n",
            " SPP_Appearance-45.pdf\n",
            "'SPP Cert of Appearance NARAG (1).pdf'\n",
            "'SPP Cert of Appearance NARAG (2).pdf'\n",
            "'SPP Cert of Appearance NARAG.pdf'\n",
            "'Testing on DIV2K dataset.pdf'\n",
            "'[THY-FX] Physics 181 LE1 Submissions 2nd Sem AY 2020-21'\n",
            " Travel-Report-Form-2019.pdf\n",
            "'Undergraduate Research'\n",
            "'Untitled spreadsheet (1).gsheet'\n",
            "'Untitled spreadsheet.gsheet'\n",
            "'variables (1).data-00000-of-00001'\n",
            "'variables (2).data-00000-of-00001'\n",
            "'variables (3).data-00000-of-00001'\n",
            "'variables (4).data-00000-of-00001'\n",
            " variables.data-00000-of-00001\n",
            "'Waiver for more than 18 units [2nd sem AY 20-21].gdoc'\n"
          ]
        }
      ],
      "source": [
        "from google.colab import drive\n",
        "drive.mount(\"/content/drive\")\n",
        "\n",
        "!ls drive/My\\ Drive\n",
        "file_path = \"/content/drive/My Drive/Architectural_designs/From Arki/6 Traditional Binarization/\""
      ]
    },
    {
      "cell_type": "code",
      "source": [
        "import matplotlib.pyplot as plt\n",
        "import numpy as np\n",
        "import pandas as pd\n",
        "\n",
        "\n",
        "from PIL import Image, ImageOps\n",
        "Image.MAX_IMAGE_PIXELS = None\n",
        "import os\n",
        "import matplotlib.pyplot as plt\n",
        "\n",
        "import cv2"
      ],
      "metadata": {
        "id": "7t5VtlOB_YW4"
      },
      "execution_count": 2,
      "outputs": []
    },
    {
      "cell_type": "code",
      "source": [
        "def metrics(gt,thresh1):\n",
        "  out_bin = np.where(thresh1 == 255, 1, thresh1)\n",
        "  gt_bin = np.where(gt == 255, 1, gt)\n",
        "  gt_bin = gt_bin^1\n",
        "  out_bin = out_bin^1\n",
        "\n",
        "  tp = np.sum(out_bin & gt_bin)\n",
        "  fp = np.sum(out_bin & ~gt_bin)\n",
        "  fn = np.sum(~out_bin & gt_bin)\n",
        "  precision = tp / (tp + fp)\n",
        "  recall = tp / (tp + fn)\n",
        "  f1_score = (2*precision*recall)/(precision + recall)\n",
        "\n",
        "  intersection = np.sum(np.logical_and(gt_bin, out_bin))\n",
        "  union = np.sum(np.logical_or(gt_bin, out_bin))\n",
        "  iou = intersection / union\n",
        "\n",
        "  psnr = cv2.PSNR(gt, thresh1)\n",
        "  return f1_score, iou, psnr\n",
        "\n",
        "\n",
        "def simple_thresh(gt,test):\n",
        "  F1 = []\n",
        "  IOU = []\n",
        "  PSNR = []\n",
        "  for i in range(0,255):\n",
        "    ret,thresh1 = cv2.threshold(test,i,255,cv2.THRESH_BINARY)\n",
        "    M = metrics(gt,thresh1)\n",
        "    F1.append(M[0])\n",
        "    IOU.append(M[1])\n",
        "    PSNR.append(M[2])\n",
        "  index = np.nanargmax(F1)\n",
        "  return F1[index], IOU[index], PSNR[index], index\n",
        "\n",
        "def otsu_thresh(gt,test):\n",
        "  ret,thresh1 = cv2.threshold(test,0,255,cv2.THRESH_BINARY+cv2.THRESH_OTSU)\n",
        "  M = metrics(gt,thresh1)\n",
        "  return M[0], M[1], M[2]"
      ],
      "metadata": {
        "id": "ODN7x2jhCyMc"
      },
      "execution_count": 3,
      "outputs": []
    },
    {
      "cell_type": "code",
      "source": [
        "def adaptive_thresh_gaussian(gt,test):\n",
        "  F1 = []\n",
        "  IOU = []\n",
        "  PSNR = []\n",
        "  kernel = [i for i in range(3, 256, 4)]\n",
        "  for k in kernel:\n",
        "    F1_per_kernel = []\n",
        "    IOU_per_kernel = []\n",
        "    PSNR_per_kernel = []\n",
        "    for i in range(0,100):\n",
        "      thresh1 = cv2.adaptiveThreshold(test,255,cv2.ADAPTIVE_THRESH_GAUSSIAN_C,cv2.THRESH_BINARY,k,i)\n",
        "      M = metrics(gt,thresh1)\n",
        "      F1_per_kernel.append(M[0])\n",
        "      IOU_per_kernel.append(M[1])\n",
        "      PSNR_per_kernel.append(M[2])\n",
        "\n",
        "    F1.append(F1_per_kernel)\n",
        "    IOU.append(IOU_per_kernel)\n",
        "    PSNR.append(PSNR_per_kernel)\n",
        "\n",
        "  F1 = np.array(F1)\n",
        "  flat_index = np.nanargmax(F1)\n",
        "  index = np.unravel_index(flat_index, F1.shape)\n",
        "\n",
        "  return F1[index[0]][index[1]], IOU[index[0]][index[1]], PSNR[index[0]][index[1]], kernel[index[0]], index[1]\n",
        "\n",
        "def adaptive_thresh_mean(gt,test):\n",
        "  F1 = []\n",
        "  IOU = []\n",
        "  PSNR = []\n",
        "  kernel = [i for i in range(3, 256, 4)]\n",
        "  for k in kernel:\n",
        "    F1_per_kernel = []\n",
        "    IOU_per_kernel = []\n",
        "    PSNR_per_kernel = []\n",
        "    for i in range(0,100):\n",
        "      thresh1 = cv2.adaptiveThreshold(test,255,cv2.ADAPTIVE_THRESH_MEAN_C,cv2.THRESH_BINARY,k,i)\n",
        "      M = metrics(gt,thresh1)\n",
        "      F1_per_kernel.append(M[0])\n",
        "      IOU_per_kernel.append(M[1])\n",
        "      PSNR_per_kernel.append(M[2])\n",
        "\n",
        "    F1.append(F1_per_kernel)\n",
        "    IOU.append(IOU_per_kernel)\n",
        "    PSNR.append(PSNR_per_kernel)\n",
        "\n",
        "  F1 = np.array(F1)\n",
        "  flat_index = np.nanargmax(F1)\n",
        "  index = np.unravel_index(flat_index, F1.shape)\n",
        "  return F1[index[0]][index[1]], IOU[index[0]][index[1]], PSNR[index[0]][index[1]], kernel[index[0]], index[1]"
      ],
      "metadata": {
        "id": "SXdhHw6Kwj0b"
      },
      "execution_count": 4,
      "outputs": []
    },
    {
      "cell_type": "markdown",
      "source": [],
      "metadata": {
        "id": "pfqB2hvKF24B"
      }
    },
    {
      "cell_type": "code",
      "source": [
        "gt = cv2.imread(file_path+ 'ground_truth_100dpi.png', cv2.IMREAD_GRAYSCALE)\n",
        "test = cv2.imread(file_path+ 'nbs_100dpi.png', cv2.IMREAD_GRAYSCALE)\n",
        "#for simple thresh:\n",
        "simple = simple_thresh(gt,test)\n",
        "print('simple thresh = ', simple)\n",
        "otsu = otsu_thresh(gt,test)\n",
        "print('simple thresh = ', otsu)\n",
        "\n",
        "#saving:\n",
        "simple_final = Image.fromarray(~output)\n",
        "reconstructed.save(file_path + \"5 Tested/output v\" + str(model) + '_RGB_GRAY.png')"
      ],
      "metadata": {
        "colab": {
          "base_uri": "https://localhost:8080/"
        },
        "id": "jQAUy0W3xKrv",
        "outputId": "db27a971-18ac-40d5-f08e-a17a0065f640"
      },
      "execution_count": 5,
      "outputs": [
        {
          "output_type": "stream",
          "name": "stderr",
          "text": [
            "<ipython-input-3-556818b699f7>:10: RuntimeWarning: invalid value encountered in ulong_scalars\n",
            "  precision = tp / (tp + fp)\n"
          ]
        },
        {
          "output_type": "stream",
          "name": "stdout",
          "text": [
            "simple thresh =  (0.7625004190352133, 0.6161621634172582, 15.146347532884514, 109)\n",
            "simple thresh =  (0.748887803731719, 0.5985776543186475, 14.448542747658957)\n"
          ]
        }
      ]
    },
    {
      "cell_type": "code",
      "source": [
        "#for adaptive thresh:\n",
        "gaussian = adaptive_thresh_gaussian(gt,test)\n",
        "print('adaptive thresh = ', gaussian)\n",
        "mean = adaptive_thresh_mean(gt,test)\n",
        "print('adaptive thresh = ', mean)"
      ],
      "metadata": {
        "colab": {
          "base_uri": "https://localhost:8080/",
          "height": 351
        },
        "id": "E9xqrMqb8J2f",
        "outputId": "2ada4b69-526e-4d84-f403-1bb8f6f11794"
      },
      "execution_count": 6,
      "outputs": [
        {
          "output_type": "stream",
          "name": "stderr",
          "text": [
            "<ipython-input-3-556818b699f7>:10: RuntimeWarning: invalid value encountered in ulong_scalars\n",
            "  precision = tp / (tp + fp)\n"
          ]
        },
        {
          "output_type": "error",
          "ename": "KeyboardInterrupt",
          "evalue": "ignored",
          "traceback": [
            "\u001b[0;31m---------------------------------------------------------------------------\u001b[0m",
            "\u001b[0;31mKeyboardInterrupt\u001b[0m                         Traceback (most recent call last)",
            "\u001b[0;32m<ipython-input-6-dcb8965c2668>\u001b[0m in \u001b[0;36m<cell line: 2>\u001b[0;34m()\u001b[0m\n\u001b[1;32m      1\u001b[0m \u001b[0;31m#for adaptive thresh:\u001b[0m\u001b[0;34m\u001b[0m\u001b[0;34m\u001b[0m\u001b[0m\n\u001b[0;32m----> 2\u001b[0;31m \u001b[0mgaussian\u001b[0m \u001b[0;34m=\u001b[0m \u001b[0madaptive_thresh_gaussian\u001b[0m\u001b[0;34m(\u001b[0m\u001b[0mgt\u001b[0m\u001b[0;34m,\u001b[0m\u001b[0mtest\u001b[0m\u001b[0;34m)\u001b[0m\u001b[0;34m\u001b[0m\u001b[0;34m\u001b[0m\u001b[0m\n\u001b[0m\u001b[1;32m      3\u001b[0m \u001b[0mprint\u001b[0m\u001b[0;34m(\u001b[0m\u001b[0;34m'adaptive thresh = '\u001b[0m\u001b[0;34m,\u001b[0m \u001b[0mgaussian\u001b[0m\u001b[0;34m)\u001b[0m\u001b[0;34m\u001b[0m\u001b[0;34m\u001b[0m\u001b[0m\n\u001b[1;32m      4\u001b[0m \u001b[0mmean\u001b[0m \u001b[0;34m=\u001b[0m \u001b[0madaptive_thresh_mean\u001b[0m\u001b[0;34m(\u001b[0m\u001b[0mgt\u001b[0m\u001b[0;34m,\u001b[0m\u001b[0mtest\u001b[0m\u001b[0;34m)\u001b[0m\u001b[0;34m\u001b[0m\u001b[0;34m\u001b[0m\u001b[0m\n\u001b[1;32m      5\u001b[0m \u001b[0mprint\u001b[0m\u001b[0;34m(\u001b[0m\u001b[0;34m'adaptive thresh = '\u001b[0m\u001b[0;34m,\u001b[0m \u001b[0mmean\u001b[0m\u001b[0;34m)\u001b[0m\u001b[0;34m\u001b[0m\u001b[0;34m\u001b[0m\u001b[0m\n",
            "\u001b[0;32m<ipython-input-4-7d8ac191923d>\u001b[0m in \u001b[0;36madaptive_thresh_gaussian\u001b[0;34m(gt, test)\u001b[0m\n\u001b[1;32m     10\u001b[0m     \u001b[0;32mfor\u001b[0m \u001b[0mi\u001b[0m \u001b[0;32min\u001b[0m \u001b[0mrange\u001b[0m\u001b[0;34m(\u001b[0m\u001b[0;36m0\u001b[0m\u001b[0;34m,\u001b[0m\u001b[0;36m100\u001b[0m\u001b[0;34m)\u001b[0m\u001b[0;34m:\u001b[0m\u001b[0;34m\u001b[0m\u001b[0;34m\u001b[0m\u001b[0m\n\u001b[1;32m     11\u001b[0m       \u001b[0mthresh1\u001b[0m \u001b[0;34m=\u001b[0m \u001b[0mcv2\u001b[0m\u001b[0;34m.\u001b[0m\u001b[0madaptiveThreshold\u001b[0m\u001b[0;34m(\u001b[0m\u001b[0mtest\u001b[0m\u001b[0;34m,\u001b[0m\u001b[0;36m255\u001b[0m\u001b[0;34m,\u001b[0m\u001b[0mcv2\u001b[0m\u001b[0;34m.\u001b[0m\u001b[0mADAPTIVE_THRESH_GAUSSIAN_C\u001b[0m\u001b[0;34m,\u001b[0m\u001b[0mcv2\u001b[0m\u001b[0;34m.\u001b[0m\u001b[0mTHRESH_BINARY\u001b[0m\u001b[0;34m,\u001b[0m\u001b[0mk\u001b[0m\u001b[0;34m,\u001b[0m\u001b[0mi\u001b[0m\u001b[0;34m)\u001b[0m\u001b[0;34m\u001b[0m\u001b[0;34m\u001b[0m\u001b[0m\n\u001b[0;32m---> 12\u001b[0;31m       \u001b[0mM\u001b[0m \u001b[0;34m=\u001b[0m \u001b[0mmetrics\u001b[0m\u001b[0;34m(\u001b[0m\u001b[0mgt\u001b[0m\u001b[0;34m,\u001b[0m\u001b[0mthresh1\u001b[0m\u001b[0;34m)\u001b[0m\u001b[0;34m\u001b[0m\u001b[0;34m\u001b[0m\u001b[0m\n\u001b[0m\u001b[1;32m     13\u001b[0m       \u001b[0mF1_per_kernel\u001b[0m\u001b[0;34m.\u001b[0m\u001b[0mappend\u001b[0m\u001b[0;34m(\u001b[0m\u001b[0mM\u001b[0m\u001b[0;34m[\u001b[0m\u001b[0;36m0\u001b[0m\u001b[0;34m]\u001b[0m\u001b[0;34m)\u001b[0m\u001b[0;34m\u001b[0m\u001b[0;34m\u001b[0m\u001b[0m\n\u001b[1;32m     14\u001b[0m       \u001b[0mIOU_per_kernel\u001b[0m\u001b[0;34m.\u001b[0m\u001b[0mappend\u001b[0m\u001b[0;34m(\u001b[0m\u001b[0mM\u001b[0m\u001b[0;34m[\u001b[0m\u001b[0;36m1\u001b[0m\u001b[0;34m]\u001b[0m\u001b[0;34m)\u001b[0m\u001b[0;34m\u001b[0m\u001b[0;34m\u001b[0m\u001b[0m\n",
            "\u001b[0;32m<ipython-input-3-556818b699f7>\u001b[0m in \u001b[0;36mmetrics\u001b[0;34m(gt, thresh1)\u001b[0m\n\u001b[1;32m      1\u001b[0m \u001b[0;32mdef\u001b[0m \u001b[0mmetrics\u001b[0m\u001b[0;34m(\u001b[0m\u001b[0mgt\u001b[0m\u001b[0;34m,\u001b[0m\u001b[0mthresh1\u001b[0m\u001b[0;34m)\u001b[0m\u001b[0;34m:\u001b[0m\u001b[0;34m\u001b[0m\u001b[0;34m\u001b[0m\u001b[0m\n\u001b[1;32m      2\u001b[0m   \u001b[0mout_bin\u001b[0m \u001b[0;34m=\u001b[0m \u001b[0mnp\u001b[0m\u001b[0;34m.\u001b[0m\u001b[0mwhere\u001b[0m\u001b[0;34m(\u001b[0m\u001b[0mthresh1\u001b[0m \u001b[0;34m==\u001b[0m \u001b[0;36m255\u001b[0m\u001b[0;34m,\u001b[0m \u001b[0;36m1\u001b[0m\u001b[0;34m,\u001b[0m \u001b[0mthresh1\u001b[0m\u001b[0;34m)\u001b[0m\u001b[0;34m\u001b[0m\u001b[0;34m\u001b[0m\u001b[0m\n\u001b[0;32m----> 3\u001b[0;31m   \u001b[0mgt_bin\u001b[0m \u001b[0;34m=\u001b[0m \u001b[0mnp\u001b[0m\u001b[0;34m.\u001b[0m\u001b[0mwhere\u001b[0m\u001b[0;34m(\u001b[0m\u001b[0mgt\u001b[0m \u001b[0;34m==\u001b[0m \u001b[0;36m255\u001b[0m\u001b[0;34m,\u001b[0m \u001b[0;36m1\u001b[0m\u001b[0;34m,\u001b[0m \u001b[0mgt\u001b[0m\u001b[0;34m)\u001b[0m\u001b[0;34m\u001b[0m\u001b[0;34m\u001b[0m\u001b[0m\n\u001b[0m\u001b[1;32m      4\u001b[0m   \u001b[0mgt_bin\u001b[0m \u001b[0;34m=\u001b[0m \u001b[0mgt_bin\u001b[0m\u001b[0;34m^\u001b[0m\u001b[0;36m1\u001b[0m\u001b[0;34m\u001b[0m\u001b[0;34m\u001b[0m\u001b[0m\n\u001b[1;32m      5\u001b[0m   \u001b[0mout_bin\u001b[0m \u001b[0;34m=\u001b[0m \u001b[0mout_bin\u001b[0m\u001b[0;34m^\u001b[0m\u001b[0;36m1\u001b[0m\u001b[0;34m\u001b[0m\u001b[0;34m\u001b[0m\u001b[0m\n",
            "\u001b[0;32m/usr/local/lib/python3.10/dist-packages/numpy/core/overrides.py\u001b[0m in \u001b[0;36mwhere\u001b[0;34m(*args, **kwargs)\u001b[0m\n",
            "\u001b[0;31mKeyboardInterrupt\u001b[0m: "
          ]
        }
      ]
    },
    {
      "cell_type": "code",
      "source": [
        "thresh1 = cv2.adaptiveThreshold(test,255,cv2.ADAPTIVE_THRESH_GAUSSIAN_C,cv2.THRESH_BINARY,65,50)\n",
        "plt.imshow(thresh1, cmap = 'gray' )"
      ],
      "metadata": {
        "id": "Z-CoZGAQGNOZ"
      },
      "execution_count": null,
      "outputs": []
    },
    {
      "cell_type": "code",
      "source": [],
      "metadata": {
        "id": "kYYol_EhG5Ey"
      },
      "execution_count": null,
      "outputs": []
    }
  ]
}