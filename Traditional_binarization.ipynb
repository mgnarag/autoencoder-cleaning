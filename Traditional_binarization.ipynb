{
  "nbformat": 4,
  "nbformat_minor": 0,
  "metadata": {
    "colab": {
      "provenance": [],
      "include_colab_link": true
    },
    "kernelspec": {
      "name": "python3",
      "display_name": "Python 3"
    },
    "language_info": {
      "name": "python"
    }
  },
  "cells": [
    {
      "cell_type": "markdown",
      "metadata": {
        "id": "view-in-github",
        "colab_type": "text"
      },
      "source": [
        "<a href=\"https://colab.research.google.com/github/mgnarag/binarization-autoencoder/blob/main/Traditional_binarization.ipynb\" target=\"_parent\"><img src=\"https://colab.research.google.com/assets/colab-badge.svg\" alt=\"Open In Colab\"/></a>"
      ]
    },
    {
      "cell_type": "code",
      "execution_count": null,
      "metadata": {
        "id": "Ny-cLuc-2ZpT"
      },
      "outputs": [],
      "source": [
        "from google.colab import drive\n",
        "drive.mount(\"/content/drive\")\n",
        "\n",
        "!ls drive/My\\ Drive\n",
        "file_path = \"/content/drive/My Drive/Architectural_designs/one quadrant/\""
      ]
    },
    {
      "cell_type": "code",
      "source": [
        "import matplotlib.pyplot as plt\n",
        "import numpy as np\n",
        "import pandas as pd\n",
        "\n",
        "\n",
        "from PIL import Image, ImageOps\n",
        "Image.MAX_IMAGE_PIXELS = None\n",
        "import os\n",
        "import matplotlib.pyplot as plt\n",
        "\n",
        "import cv2"
      ],
      "metadata": {
        "id": "7t5VtlOB_YW4"
      },
      "execution_count": 2,
      "outputs": []
    },
    {
      "cell_type": "code",
      "source": [
        "def metrics(image1,image2):\n",
        "\n",
        "  image1 = image1[0:7168, 0:9728]\n",
        "  image2 = image2[0:7168, 0:9728]\n",
        "\n",
        "  psnr = cv2.PSNR(image1, image2)\n",
        "\n",
        "  _, image1 = cv2.threshold(image1, 127, 1, cv2.THRESH_BINARY)\n",
        "  _, image2 = cv2.threshold(image2, 127, 1, cv2.THRESH_BINARY)\n",
        "  image1 = 1 - image1\n",
        "  image2 = 1 - image2\n",
        "\n",
        "  # Calculate True Positive, False Positive, False Negative\n",
        "  TP = np.sum(np.logical_and(image1, image2))\n",
        "  FP = np.sum(np.logical_and(image1 == 0, image2 == 1))\n",
        "  FN = np.sum(np.logical_and(image1 == 1, image2 == 0))\n",
        "\n",
        "  # Calculate precision, recall, and F1 score\n",
        "  precision = TP / (TP + FP)\n",
        "  recall = TP / (TP + FN)\n",
        "  f1_score = 2 * (precision * recall) / (precision + recall)\n",
        "\n",
        "  intersection = np.sum(np.logical_and(image1, image2))\n",
        "  union = np.sum(np.logical_or(image1, image2))\n",
        "  iou = intersection / union\n",
        "\n",
        "\n",
        "\n",
        "  return f1_score, iou, psnr\n",
        "\n",
        "\n",
        "def simple_thresh(gt,test):\n",
        "  F1 = []\n",
        "  IOU = []\n",
        "  PSNR = []\n",
        "  for i in range(0,255):\n",
        "    ret,thresh1 = cv2.threshold(test,i,255,cv2.THRESH_BINARY)\n",
        "    M = metrics(gt,thresh1)\n",
        "    F1.append(M[0])\n",
        "    IOU.append(M[1])\n",
        "    PSNR.append(M[2])\n",
        "  index = np.nanargmax(F1)\n",
        "\n",
        "  #saving:\n",
        "  ret,thresh1 = cv2.threshold(test,index,255,cv2.THRESH_BINARY)\n",
        "  final = Image.fromarray(thresh1)\n",
        "  final.save(file_path + \"/6 Traditional Thresh Results/\"+\"[1] SIMPLE_pix_\" + str(index)+\".png\")\n",
        "\n",
        "  return F1[index], IOU[index], PSNR[index], index\n",
        "\n",
        "def otsu_thresh(gt,test):\n",
        "  ret,thresh1 = cv2.threshold(test,0,255,cv2.THRESH_BINARY+cv2.THRESH_OTSU)\n",
        "  M = metrics(gt,thresh1)\n",
        "  final = Image.fromarray(thresh1)\n",
        "  final.save(file_path +  \"/6 Traditional Thresh Results/\"+\"[2] OTSU.png\")\n",
        "  return M[0], M[1], M[2]"
      ],
      "metadata": {
        "id": "ODN7x2jhCyMc"
      },
      "execution_count": 7,
      "outputs": []
    },
    {
      "cell_type": "code",
      "source": [
        "def adaptive_thresh_gaussian(gt,test):\n",
        "  F1 = []\n",
        "  IOU = []\n",
        "  PSNR = []\n",
        "  kernel = [i for i in range(3, 128, 4)]\n",
        "  for k in kernel:\n",
        "    F1_per_kernel = []\n",
        "    IOU_per_kernel = []\n",
        "    PSNR_per_kernel = []\n",
        "    print(k)\n",
        "    for i in range(0,100):\n",
        "      #print(i)\n",
        "      thresh1 = cv2.adaptiveThreshold(test,255,cv2.ADAPTIVE_THRESH_GAUSSIAN_C,cv2.THRESH_BINARY,k,i)\n",
        "      M = metrics(gt,thresh1)\n",
        "      F1_per_kernel.append(M[0])\n",
        "      IOU_per_kernel.append(M[1])\n",
        "      PSNR_per_kernel.append(M[2])\n",
        "\n",
        "    F1.append(F1_per_kernel)\n",
        "    IOU.append(IOU_per_kernel)\n",
        "    PSNR.append(PSNR_per_kernel)\n",
        "\n",
        "  F1 = np.array(F1)\n",
        "  flat_index = np.nanargmax(F1)\n",
        "  index = np.unravel_index(flat_index, F1.shape)\n",
        "\n",
        "  #saving:\n",
        "  thresh1 = cv2.adaptiveThreshold(test,255,cv2.ADAPTIVE_THRESH_GAUSSIAN_C,cv2.THRESH_BINARY,kernel[index[0]], index[1])\n",
        "  final = Image.fromarray(thresh1)\n",
        "  final.save(file_path + \"/6 Traditional Thresh Results/\"+ \"[3] ADAPTIVE_GAUSSIAN_kernel_\"+str(kernel[index[0]])+ \"pix_\"+str(index[1])+\".png\")\n",
        "\n",
        "  return F1[index[0]][index[1]], IOU[index[0]][index[1]], PSNR[index[0]][index[1]], kernel[index[0]], index[1]\n",
        "\n",
        "def adaptive_thresh_mean(gt,test):\n",
        "  F1 = []\n",
        "  IOU = []\n",
        "  PSNR = []\n",
        "  kernel = [i for i in range(3, 128, 4)]\n",
        "  for k in kernel:\n",
        "    F1_per_kernel = []\n",
        "    IOU_per_kernel = []\n",
        "    PSNR_per_kernel = []\n",
        "    print(k)\n",
        "    for i in range(0,100):\n",
        "      thresh1 = cv2.adaptiveThreshold(test,255,cv2.ADAPTIVE_THRESH_MEAN_C,cv2.THRESH_BINARY,k,i)\n",
        "      #print(i)\n",
        "      M = metrics(gt,thresh1)\n",
        "      F1_per_kernel.append(M[0])\n",
        "      IOU_per_kernel.append(M[1])\n",
        "      PSNR_per_kernel.append(M[2])\n",
        "\n",
        "    F1.append(F1_per_kernel)\n",
        "    IOU.append(IOU_per_kernel)\n",
        "    PSNR.append(PSNR_per_kernel)\n",
        "\n",
        "  F1 = np.array(F1)\n",
        "  flat_index = np.nanargmax(F1)\n",
        "  index = np.unravel_index(flat_index, F1.shape)\n",
        "\n",
        "  #saving:\n",
        "  thresh1 = cv2.adaptiveThreshold(test,255,cv2.ADAPTIVE_THRESH_MEAN_C,cv2.THRESH_BINARY,kernel[index[0]], index[1])\n",
        "  final = Image.fromarray(thresh1)\n",
        "  final.save(file_path +  \"/6 Traditional Thresh Results/\"+\"[4] ADAPTIVE_MEAN_kernel_\"+str(kernel[index[0]])+ \"pix_\"+str(index[1])+\".png\")\n",
        "\n",
        "  return F1[index[0]][index[1]], IOU[index[0]][index[1]], PSNR[index[0]][index[1]], kernel[index[0]], index[1]"
      ],
      "metadata": {
        "id": "SXdhHw6Kwj0b"
      },
      "execution_count": 4,
      "outputs": []
    },
    {
      "cell_type": "markdown",
      "source": [],
      "metadata": {
        "id": "pfqB2hvKF24B"
      }
    },
    {
      "cell_type": "code",
      "source": [
        "gt = cv2.imread(file_path+ '4 Testing/ground_truth.png', cv2.IMREAD_GRAYSCALE)\n",
        "test = cv2.imread(file_path+ '4 Testing/1.png', cv2.IMREAD_GRAYSCALE)\n",
        "#for simple thresh:\n",
        "otsu = otsu_thresh(gt,test)\n",
        "print('simple otsu = ', otsu)\n",
        "simple = simple_thresh(gt,test)\n",
        "print('simple thresh = ', simple)"
      ],
      "metadata": {
        "colab": {
          "base_uri": "https://localhost:8080/"
        },
        "id": "jQAUy0W3xKrv",
        "outputId": "0dbdc02e-ecdc-4daa-fdbb-fdeab4ae34ae"
      },
      "execution_count": 8,
      "outputs": [
        {
          "output_type": "stream",
          "name": "stdout",
          "text": [
            "simple otsu =  (0.3271045444266659, 0.19553197023573762, 5.8301143610808435)\n"
          ]
        },
        {
          "output_type": "stream",
          "name": "stderr",
          "text": [
            "<ipython-input-7-b64062a10460>:19: RuntimeWarning: invalid value encountered in scalar divide\n",
            "  precision = TP / (TP + FP)\n"
          ]
        },
        {
          "output_type": "stream",
          "name": "stdout",
          "text": [
            "simple thresh =  (0.9519330715088575, 0.9082750782713038, 22.06337408831584, 48)\n"
          ]
        }
      ]
    },
    {
      "cell_type": "code",
      "source": [
        "#for adaptive thresh:\n",
        "gaussian = adaptive_thresh_gaussian(gt,test)\n",
        "print('adaptive thresh = ', gaussian)\n",
        "mean = adaptive_thresh_mean(gt,test)\n",
        "print('adaptive thresh = ', mean)"
      ],
      "metadata": {
        "colab": {
          "base_uri": "https://localhost:8080/"
        },
        "id": "E9xqrMqb8J2f",
        "outputId": "e4c42e61-e23b-4a6c-ff8d-fe9576a65e52"
      },
      "execution_count": 9,
      "outputs": [
        {
          "output_type": "stream",
          "name": "stdout",
          "text": [
            "3\n"
          ]
        },
        {
          "output_type": "stream",
          "name": "stderr",
          "text": [
            "<ipython-input-7-b64062a10460>:21: RuntimeWarning: invalid value encountered in scalar divide\n",
            "  f1_score = 2 * (precision * recall) / (precision + recall)\n",
            "<ipython-input-7-b64062a10460>:19: RuntimeWarning: invalid value encountered in scalar divide\n",
            "  precision = TP / (TP + FP)\n"
          ]
        },
        {
          "output_type": "stream",
          "name": "stdout",
          "text": [
            "7\n",
            "11\n",
            "15\n",
            "19\n",
            "23\n",
            "27\n",
            "31\n",
            "35\n",
            "39\n",
            "43\n",
            "47\n",
            "51\n",
            "55\n",
            "59\n",
            "63\n",
            "67\n",
            "71\n",
            "75\n",
            "79\n",
            "83\n",
            "87\n",
            "91\n",
            "95\n",
            "99\n",
            "103\n",
            "107\n",
            "111\n",
            "115\n",
            "119\n",
            "123\n",
            "127\n",
            "adaptive thresh =  (0.8912473950409946, 0.8038289074179422, 18.668736954180016, 127, 16)\n",
            "3\n",
            "7\n",
            "11\n",
            "15\n",
            "19\n",
            "23\n",
            "27\n",
            "31\n",
            "35\n",
            "39\n",
            "43\n",
            "47\n",
            "51\n",
            "55\n",
            "59\n",
            "63\n",
            "67\n",
            "71\n",
            "75\n",
            "79\n",
            "83\n",
            "87\n",
            "91\n",
            "95\n",
            "99\n",
            "103\n",
            "107\n",
            "111\n",
            "115\n",
            "119\n",
            "123\n",
            "127\n",
            "adaptive thresh =  (0.9042231712041401, 0.8251891694021157, 19.179296647385208, 127, 18)\n"
          ]
        }
      ]
    },
    {
      "cell_type": "code",
      "source": [
        "simple_ = np.array(simple)\n",
        "otsu_ = np.array(otsu)\n",
        "gaussian_ = np.array(gaussian)\n",
        "mean_ = np.array(mean)\n",
        "\n",
        "\n",
        "# Creating DataFrames from arrays\n",
        "df1 = pd.DataFrame({'Simple': simple_})\n",
        "df2 = pd.DataFrame({'Otsu': otsu_})\n",
        "df3 = pd.DataFrame({'Gaussian': gaussian_})\n",
        "df4 = pd.DataFrame({'Mean': mean_})\n",
        "\n",
        "# Concatenating DataFrames along columns (axis=1)\n",
        "metric = pd.concat([df1, df2, df3, df4], axis=1)\n",
        "metric = metric.T\n",
        "\n",
        "headers = ['F1 score','IOU', 'PSNR', 'pixel/kerner', 'c parameter' ]\n",
        "metric.columns = headers\n",
        "\n",
        "metric.to_csv(file_path +  \"/6 Traditional Thresh Results/\"+ 'Metric_traditional.csv')\n",
        "\n",
        "\n",
        "print(metric)"
      ],
      "metadata": {
        "id": "8LAe5F2bA6Cp",
        "outputId": "163de2c2-5e63-407b-fe66-1acadd7f3bc7",
        "colab": {
          "base_uri": "https://localhost:8080/"
        }
      },
      "execution_count": 10,
      "outputs": [
        {
          "output_type": "stream",
          "name": "stdout",
          "text": [
            "          F1 score       IOU       PSNR  pixel/kerner  c parameter\n",
            "Simple    0.951933  0.908275  22.063374          48.0          NaN\n",
            "Otsu      0.327105  0.195532   5.830114           NaN          NaN\n",
            "Gaussian  0.891247  0.803829  18.668737         127.0         16.0\n",
            "Mean      0.904223  0.825189  19.179297         127.0         18.0\n"
          ]
        }
      ]
    },
    {
      "cell_type": "code",
      "source": [
        "from sklearn.metrics import f1_score\n",
        "import numpy as np\n",
        "image1 = cv2.imread(file_path+ '4 Testing/ground_truth.png')\n",
        "#image2 = cv2.imread(file_path+ '5 Tested/output v8.png')\n",
        "#image2 = cv2.imread(file_path+ \"/6 Traditional Thresh Results/\"+\"[3] ADAPTIVE_GAUSSIAN_kernel_127pix_18.png\")\n",
        "image2 = cv2.imread(file_path+ \"/6 Traditional Thresh Results/\"+\"[1] SIMPLE_pix_48.png\")\n",
        "# Assuming you have two binary images represented as numpy arrays\n",
        "# Let's say image1 and image2\n",
        "\n",
        "# Ensure images are binary\n",
        "_, image1 = cv2.threshold(image1, 127, 1, cv2.THRESH_BINARY)\n",
        "_, image2 = cv2.threshold(image2, 127, 1, cv2.THRESH_BINARY)\n",
        "image1 = 1 - image1\n",
        "image2 = 1 - image2\n",
        "\n",
        "#image1 = image1[0:7168, 0:9728]\n",
        "#image2 = image2[0:7168, 0:9728]\n",
        "\n",
        "# Calculate True Positive, False Positive, False Negative\n",
        "TP = np.sum(np.logical_and(image1, image2))\n",
        "FP = np.sum(np.logical_and(image1 == 0, image2 == 1))\n",
        "FN = np.sum(np.logical_and(image1 == 1, image2 == 0))\n",
        "\n",
        "# Calculate precision, recall, and F1 score\n",
        "precision = TP / (TP + FP)\n",
        "recall = TP / (TP + FN)\n",
        "f1_score = 2 * (precision * recall) / (precision + recall)\n",
        "\n",
        "print(\"Precision:\", precision)\n",
        "print(\"Recall:\", recall)\n",
        "print(\"F1 Score:\", f1_score)\n",
        "\n",
        "\n",
        "intersection = np.sum(np.logical_and(image1, image2))\n",
        "union = np.sum(np.logical_or(image1, image2))\n",
        "iou = intersection / union\n",
        "print(\"IOU\", iou)"
      ],
      "metadata": {
        "colab": {
          "base_uri": "https://localhost:8080/"
        },
        "id": "RSpdwUB8nj6d",
        "outputId": "d3531bea-5bb6-4245-d2c8-4d6c0b522f68"
      },
      "execution_count": null,
      "outputs": [
        {
          "output_type": "stream",
          "name": "stdout",
          "text": [
            "Precision: 0.9193546922517826\n",
            "Recall: 0.9860593567707099\n",
            "F1 Score: 0.9515394272976996\n",
            "IOU 0.9075586169589607\n"
          ]
        }
      ]
    },
    {
      "cell_type": "code",
      "source": [],
      "metadata": {
        "id": "aS8uu7BMplFp"
      },
      "execution_count": null,
      "outputs": []
    }
  ]
}